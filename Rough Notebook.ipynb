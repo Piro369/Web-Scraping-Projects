{
 "cells": [
  {
   "cell_type": "markdown",
   "id": "3e16f1f9",
   "metadata": {},
   "source": [
    "## Scrapping Popular Movies on themoviedb.org \n"
   ]
  },
  {
   "cell_type": "markdown",
   "id": "68534840",
   "metadata": {},
   "source": [
    "\n",
    "#### Project Outline\n",
    "\n",
    "- We're going to scrape https://www.themoviedb.org/movie\n",
    "- First we will get the Names of First 50 the popular Movies \n",
    "- For each movie we will get the following information :\n",
    "- (Movie Name , User Score(%) , Time , Date of Release , Genre , Director , Overview)\n",
    "- Lastly we will create a CSV file in the following format:\n",
    "\n",
    "```\n",
    "Movie Name,User Score(%),Time ,Date of  Release,Director,Genre,Overview\n",
    "Guardians of the Galaxy Vol.3,81,2h30m,06/09/2023,James Gunn,\"Science Fiction,Adventure ,Action\",\"Peter Quill, still...\"\n",
    "```"
   ]
  },
  {
   "cell_type": "markdown",
   "id": "67a9c020",
   "metadata": {},
   "source": [
    "### Use requests library to Download web pages"
   ]
  },
  {
   "cell_type": "code",
   "execution_count": 4,
   "id": "49438424",
   "metadata": {},
   "outputs": [],
   "source": [
    "import requests \n",
    "from bs4 import BeautifulSoup\n",
    "import pandas as pd\n",
    "import random"
   ]
  },
  {
   "cell_type": "code",
   "execution_count": 5,
   "id": "9609f49e",
   "metadata": {},
   "outputs": [],
   "source": [
    "HEADERS = {'User-Agent': 'Mozilla/5.0 (iPad; CPU OS 12_2 like Mac OS X) AppleWebKit/605.1.15 (KHTML, like Gecko) Mobile/15E148'}\n",
    "\n",
    "base_url = 'https://www.themoviedb.org/movie?page=1'\n",
    "\n",
    "response = requests.get(base_url, headers=HEADERS)"
   ]
  },
  {
   "cell_type": "code",
   "execution_count": 6,
   "id": "c549c7f6",
   "metadata": {},
   "outputs": [
    {
     "data": {
      "text/plain": [
       "200"
      ]
     },
     "execution_count": 6,
     "metadata": {},
     "output_type": "execute_result"
    }
   ],
   "source": [
    "response.status_code"
   ]
  },
  {
   "cell_type": "code",
   "execution_count": 7,
   "id": "0a5ae097",
   "metadata": {},
   "outputs": [
    {
     "data": {
      "text/plain": [
       "207780"
      ]
     },
     "execution_count": 7,
     "metadata": {},
     "output_type": "execute_result"
    }
   ],
   "source": [
    "len(response.text)"
   ]
  },
  {
   "cell_type": "code",
   "execution_count": null,
   "id": "552a5760",
   "metadata": {},
   "outputs": [],
   "source": []
  },
  {
   "cell_type": "code",
   "execution_count": null,
   "id": "ee48b442",
   "metadata": {},
   "outputs": [],
   "source": []
  },
  {
   "cell_type": "code",
   "execution_count": null,
   "id": "5ecd2f98",
   "metadata": {},
   "outputs": [],
   "source": []
  },
  {
   "cell_type": "code",
   "execution_count": null,
   "id": "ba94c002",
   "metadata": {},
   "outputs": [],
   "source": []
  },
  {
   "cell_type": "markdown",
   "id": "2c1f542e",
   "metadata": {},
   "source": [
    "### Use Beautiful soup to parse and extract information"
   ]
  },
  {
   "cell_type": "code",
   "execution_count": 8,
   "id": "a81a2252",
   "metadata": {},
   "outputs": [],
   "source": [
    "contents = BeautifulSoup(response.text,'html.parser')"
   ]
  },
  {
   "cell_type": "code",
   "execution_count": 9,
   "id": "71b54db7",
   "metadata": {},
   "outputs": [
    {
     "data": {
      "text/plain": [
       "bs4.BeautifulSoup"
      ]
     },
     "execution_count": 9,
     "metadata": {},
     "output_type": "execute_result"
    }
   ],
   "source": [
    "type(contents)"
   ]
  },
  {
   "cell_type": "code",
   "execution_count": 10,
   "id": "a9f47ede",
   "metadata": {},
   "outputs": [
    {
     "data": {
      "text/plain": [
       "[<a class=\"image\" href=\"/movie/447365\" title=\"Guardians of the Galaxy Vol. 3\">\n",
       " <img alt=\"\" class=\"poster\" loading=\"lazy\" src=\"/t/p/w220_and_h330_face/r2J02Z2OpNTctfOSN1Ydgii51I3.jpg\" srcset=\"/t/p/w220_and_h330_face/r2J02Z2OpNTctfOSN1Ydgii51I3.jpg 1x, /t/p/w440_and_h660_face/r2J02Z2OpNTctfOSN1Ydgii51I3.jpg 2x\"/>\n",
       " </a>,\n",
       " <a class=\"image\" href=\"/movie/667538\" title=\"Transformers: Rise of the Beasts\">\n",
       " <img alt=\"\" class=\"poster\" loading=\"lazy\" src=\"/t/p/w220_and_h330_face/gPbM0MK8CP8A174rmUwGsADNYKD.jpg\" srcset=\"/t/p/w220_and_h330_face/gPbM0MK8CP8A174rmUwGsADNYKD.jpg 1x, /t/p/w440_and_h660_face/gPbM0MK8CP8A174rmUwGsADNYKD.jpg 2x\"/>\n",
       " </a>,\n",
       " <a class=\"image\" href=\"/movie/385687\" title=\"Fast X\">\n",
       " <img alt=\"\" class=\"poster\" loading=\"lazy\" src=\"/t/p/w220_and_h330_face/fiVW06jE7z9YnO4trhaMEdclSiC.jpg\" srcset=\"/t/p/w220_and_h330_face/fiVW06jE7z9YnO4trhaMEdclSiC.jpg 1x, /t/p/w440_and_h660_face/fiVW06jE7z9YnO4trhaMEdclSiC.jpg 2x\"/>\n",
       " </a>]"
      ]
     },
     "execution_count": 10,
     "metadata": {},
     "output_type": "execute_result"
    }
   ],
   "source": [
    "# 'all_movies_contents' have the a tag\n",
    "class_selection = 'image'\n",
    "\n",
    "all_movies_contents = contents.find_all('a',class_=class_selection)\n",
    "all_movies_contents[:3]"
   ]
  },
  {
   "cell_type": "code",
   "execution_count": 11,
   "id": "2b9eccff",
   "metadata": {},
   "outputs": [
    {
     "data": {
      "text/plain": [
       "20"
      ]
     },
     "execution_count": 11,
     "metadata": {},
     "output_type": "execute_result"
    }
   ],
   "source": [
    "len(all_movies_contents)"
   ]
  },
  {
   "cell_type": "code",
   "execution_count": 12,
   "id": "3d2a86ef",
   "metadata": {},
   "outputs": [
    {
     "data": {
      "text/plain": [
       "'/movie/447365'"
      ]
     },
     "execution_count": 12,
     "metadata": {},
     "output_type": "execute_result"
    }
   ],
   "source": [
    "all_movies_contents[0]['href']"
   ]
  },
  {
   "cell_type": "code",
   "execution_count": 13,
   "id": "d88abb96",
   "metadata": {},
   "outputs": [
    {
     "data": {
      "text/plain": [
       "'Guardians of the Galaxy Vol. 3'"
      ]
     },
     "execution_count": 13,
     "metadata": {},
     "output_type": "execute_result"
    }
   ],
   "source": [
    "all_movies_contents[0]['title']"
   ]
  },
  {
   "cell_type": "code",
   "execution_count": 14,
   "id": "64bbafbd",
   "metadata": {},
   "outputs": [],
   "source": [
    "movies_name = []\n",
    "movies_link = []\n",
    "for i in range(len(all_movies_contents)):\n",
    "    url = 'https://www.themoviedb.org'\n",
    "    temp_url = (url + all_movies_contents[i]['href'])\n",
    "    movies_link.append(temp_url)\n",
    "    \n",
    "    movies_name.append(all_movies_contents[i]['title'])\n",
    "    \n"
   ]
  },
  {
   "cell_type": "code",
   "execution_count": 15,
   "id": "4e0112ee",
   "metadata": {},
   "outputs": [
    {
     "data": {
      "text/plain": [
       "['https://www.themoviedb.org/movie/447365',\n",
       " 'https://www.themoviedb.org/movie/667538',\n",
       " 'https://www.themoviedb.org/movie/385687',\n",
       " 'https://www.themoviedb.org/movie/455476',\n",
       " 'https://www.themoviedb.org/movie/445651',\n",
       " 'https://www.themoviedb.org/movie/678512',\n",
       " 'https://www.themoviedb.org/movie/254128',\n",
       " 'https://www.themoviedb.org/movie/569094',\n",
       " 'https://www.themoviedb.org/movie/603692',\n",
       " 'https://www.themoviedb.org/movie/406563',\n",
       " 'https://www.themoviedb.org/movie/1070802',\n",
       " 'https://www.themoviedb.org/movie/1130818',\n",
       " 'https://www.themoviedb.org/movie/502356',\n",
       " 'https://www.themoviedb.org/movie/346698',\n",
       " 'https://www.themoviedb.org/movie/976573',\n",
       " 'https://www.themoviedb.org/movie/575264',\n",
       " 'https://www.themoviedb.org/movie/47964',\n",
       " 'https://www.themoviedb.org/movie/423108',\n",
       " 'https://www.themoviedb.org/movie/614479',\n",
       " 'https://www.themoviedb.org/movie/1103825']"
      ]
     },
     "execution_count": 15,
     "metadata": {},
     "output_type": "execute_result"
    }
   ],
   "source": [
    "movies_link"
   ]
  },
  {
   "cell_type": "code",
   "execution_count": 16,
   "id": "27f0fdaa",
   "metadata": {},
   "outputs": [
    {
     "data": {
      "text/plain": [
       "['Guardians of the Galaxy Vol. 3',\n",
       " 'Transformers: Rise of the Beasts',\n",
       " 'Fast X',\n",
       " 'Knights of the Zodiac',\n",
       " 'The Darkest Minds',\n",
       " 'Sound of Freedom',\n",
       " 'San Andreas',\n",
       " 'Spider-Man: Across the Spider-Verse',\n",
       " 'John Wick: Chapter 4',\n",
       " 'Insidious: The Last Key',\n",
       " 'Confidential Informant',\n",
       " 'Sheroes',\n",
       " 'The Super Mario Bros. Movie',\n",
       " 'Barbie',\n",
       " 'Elemental',\n",
       " 'Mission: Impossible - Dead Reckoning Part One',\n",
       " 'A Good Day to Die Hard',\n",
       " 'The Conjuring: The Devil Made Me Do It',\n",
       " 'Insidious: The Red Door',\n",
       " 'War of the Worlds: The Attack']"
      ]
     },
     "execution_count": 16,
     "metadata": {},
     "output_type": "execute_result"
    }
   ],
   "source": [
    "movies_name"
   ]
  },
  {
   "cell_type": "code",
   "execution_count": 17,
   "id": "4bda5458",
   "metadata": {},
   "outputs": [
    {
     "data": {
      "text/plain": [
       "True"
      ]
     },
     "execution_count": 17,
     "metadata": {},
     "output_type": "execute_result"
    }
   ],
   "source": [
    "len(movies_link) == len(movies_name) == 20"
   ]
  },
  {
   "cell_type": "code",
   "execution_count": null,
   "id": "7fba19a5",
   "metadata": {},
   "outputs": [],
   "source": []
  },
  {
   "cell_type": "markdown",
   "id": "0ebcd6ec",
   "metadata": {},
   "source": [
    "### Scraping specific information from the Movies"
   ]
  },
  {
   "cell_type": "code",
   "execution_count": 18,
   "id": "e5e7c3a8",
   "metadata": {},
   "outputs": [
    {
     "data": {
      "text/plain": [
       "'https://www.themoviedb.org/movie/447365'"
      ]
     },
     "execution_count": 18,
     "metadata": {},
     "output_type": "execute_result"
    }
   ],
   "source": [
    "movie1 = movies_link[0]\n",
    "movie1"
   ]
  },
  {
   "cell_type": "code",
   "execution_count": 19,
   "id": "f1f1356e",
   "metadata": {},
   "outputs": [
    {
     "data": {
      "text/plain": [
       "200"
      ]
     },
     "execution_count": 19,
     "metadata": {},
     "output_type": "execute_result"
    }
   ],
   "source": [
    "header = { \n",
    "    \"User-Agent\": \"Mozilla/5.0 (Windows NT 10.0; Win64; x64) AppleWebKit/537.36 (KHTML, like Gecko) Chrome/114.0.0.0 Safari/537.36\"\n",
    "}\n",
    "\n",
    "response1 = requests.get(movie1, headers=header)\n",
    "response1.status_code\n"
   ]
  },
  {
   "cell_type": "code",
   "execution_count": 20,
   "id": "fdbb25f1",
   "metadata": {},
   "outputs": [],
   "source": [
    "movie1_contents = BeautifulSoup(response1.text)"
   ]
  },
  {
   "cell_type": "code",
   "execution_count": 21,
   "id": "f229f2fd",
   "metadata": {},
   "outputs": [
    {
     "data": {
      "text/plain": [
       "bs4.BeautifulSoup"
      ]
     },
     "execution_count": 21,
     "metadata": {},
     "output_type": "execute_result"
    }
   ],
   "source": [
    "type(movie1_contents)"
   ]
  },
  {
   "cell_type": "code",
   "execution_count": 22,
   "id": "896cd4d7",
   "metadata": {},
   "outputs": [
    {
     "data": {
      "text/plain": [
       "<div class=\"user_score_chart\" data-bar-color=\"#21d07a\" data-percent=\"81.0\" data-track-color=\"#204529\">\n",
       "<div class=\"percent\">\n",
       "<span class=\"icon icon-r81\"></span>\n",
       "</div>\n",
       "</div>"
      ]
     },
     "execution_count": 22,
     "metadata": {},
     "output_type": "execute_result"
    }
   ],
   "source": [
    "class_selection1 = 'user_score_chart'\n",
    "user_score_tag = movie1_contents.find_all('div',{'class':class_selection1})\n",
    "user_score_tag[0]"
   ]
  },
  {
   "cell_type": "code",
   "execution_count": 23,
   "id": "46e43118",
   "metadata": {},
   "outputs": [
    {
     "data": {
      "text/plain": [
       "bs4.element.ResultSet"
      ]
     },
     "execution_count": 23,
     "metadata": {},
     "output_type": "execute_result"
    }
   ],
   "source": [
    "type(user_score_tag)"
   ]
  },
  {
   "cell_type": "code",
   "execution_count": 24,
   "id": "52f73cc9",
   "metadata": {},
   "outputs": [
    {
     "data": {
      "text/plain": [
       "'81.0'"
      ]
     },
     "execution_count": 24,
     "metadata": {},
     "output_type": "execute_result"
    }
   ],
   "source": [
    "user_score1 = user_score_tag[0]['data-percent']\n",
    "user_score1"
   ]
  },
  {
   "cell_type": "code",
   "execution_count": 25,
   "id": "f9e9451d",
   "metadata": {},
   "outputs": [
    {
     "data": {
      "text/plain": [
       "<span class=\"runtime\">\n",
       "        2h 30m\n",
       "    </span>"
      ]
     },
     "execution_count": 25,
     "metadata": {},
     "output_type": "execute_result"
    }
   ],
   "source": [
    "time_tag1 = movie1_contents.find_all('span',class_='runtime')\n",
    "time_tag1[0]"
   ]
  },
  {
   "cell_type": "code",
   "execution_count": 26,
   "id": "3e6f43c9",
   "metadata": {},
   "outputs": [
    {
     "data": {
      "text/plain": [
       "'2h 30m'"
      ]
     },
     "execution_count": 26,
     "metadata": {},
     "output_type": "execute_result"
    }
   ],
   "source": [
    "time1 = time_tag1[0].text.strip()\n",
    "time1"
   ]
  },
  {
   "cell_type": "code",
   "execution_count": 27,
   "id": "cbe002f6",
   "metadata": {},
   "outputs": [
    {
     "data": {
      "text/plain": [
       "<span class=\"release\">\n",
       "        05/05/2023 (US)\n",
       "      </span>"
      ]
     },
     "execution_count": 27,
     "metadata": {},
     "output_type": "execute_result"
    }
   ],
   "source": [
    "release_tag1 = movie1_contents.find_all('span',class_='release')\n",
    "release_tag1[0]"
   ]
  },
  {
   "cell_type": "code",
   "execution_count": 28,
   "id": "4b01b1bf",
   "metadata": {},
   "outputs": [
    {
     "name": "stdout",
     "output_type": "stream",
     "text": [
      "05/05/2023 (US)\n"
     ]
    },
    {
     "data": {
      "text/plain": [
       "'05/05/2023'"
      ]
     },
     "execution_count": 28,
     "metadata": {},
     "output_type": "execute_result"
    }
   ],
   "source": [
    "release1 = release_tag1[0].text.strip()\n",
    "print(release1)\n",
    "release1 = release1[:10]\n",
    "release1"
   ]
  },
  {
   "cell_type": "code",
   "execution_count": 29,
   "id": "c1604ed0",
   "metadata": {},
   "outputs": [
    {
     "data": {
      "text/plain": [
       "<span class=\"genres\">\n",
       "<a href=\"/genre/878-science-fiction/movie\">Science Fiction</a>, <a href=\"/genre/12-adventure/movie\">Adventure</a>, <a href=\"/genre/28-action/movie\">Action</a>\n",
       "</span>"
      ]
     },
     "execution_count": 29,
     "metadata": {},
     "output_type": "execute_result"
    }
   ],
   "source": [
    "genres_tag1 = movie1_contents.find_all('span',class_='genres')\n",
    "genres_tag1[0]"
   ]
  },
  {
   "cell_type": "code",
   "execution_count": 30,
   "id": "a3462f4a",
   "metadata": {},
   "outputs": [
    {
     "data": {
      "text/plain": [
       "[<a href=\"/genre/878-science-fiction/movie\">Science Fiction</a>,\n",
       " <a href=\"/genre/12-adventure/movie\">Adventure</a>,\n",
       " <a href=\"/genre/28-action/movie\">Action</a>]"
      ]
     },
     "execution_count": 30,
     "metadata": {},
     "output_type": "execute_result"
    }
   ],
   "source": [
    "genres_tag1[0].find_all('a')"
   ]
  },
  {
   "cell_type": "code",
   "execution_count": 31,
   "id": "42996010",
   "metadata": {},
   "outputs": [
    {
     "data": {
      "text/plain": [
       "'Science Fiction,\\xa0Adventure,\\xa0Action'"
      ]
     },
     "execution_count": 31,
     "metadata": {},
     "output_type": "execute_result"
    }
   ],
   "source": [
    "genres_tag1[0].text.strip()"
   ]
  },
  {
   "cell_type": "code",
   "execution_count": 32,
   "id": "240f77f8",
   "metadata": {},
   "outputs": [
    {
     "data": {
      "text/plain": [
       "'Science Fiction , Adventure , Action'"
      ]
     },
     "execution_count": 32,
     "metadata": {},
     "output_type": "execute_result"
    }
   ],
   "source": [
    "' , '.join( 'Science Fiction,\\xa0Adventure,\\xa0Action'.split(',\\xa0'))"
   ]
  },
  {
   "cell_type": "code",
   "execution_count": 33,
   "id": "efea7c37",
   "metadata": {},
   "outputs": [
    {
     "data": {
      "text/plain": [
       "'Science Fiction,\\xa0Adventure,\\xa0Action'"
      ]
     },
     "execution_count": 33,
     "metadata": {},
     "output_type": "execute_result"
    }
   ],
   "source": [
    "genres1 = genres_tag1[0].text.strip()\n",
    "genres1\n"
   ]
  },
  {
   "cell_type": "code",
   "execution_count": 34,
   "id": "ddf3eaa5",
   "metadata": {},
   "outputs": [
    {
     "data": {
      "text/plain": [
       "'Science Fiction , Adventure , Action'"
      ]
     },
     "execution_count": 34,
     "metadata": {},
     "output_type": "execute_result"
    }
   ],
   "source": [
    "genres1  = ' , '.join(genres1.split(',\\xa0'))\n",
    "genres1"
   ]
  },
  {
   "cell_type": "code",
   "execution_count": 35,
   "id": "73b8ae86",
   "metadata": {},
   "outputs": [
    {
     "data": {
      "text/plain": [
       "<div class=\"overview\" dir=\"auto\">\n",
       "<p>Peter Quill, still reeling from the loss of Gamora, must rally his team around him to defend the universe along with protecting one of their own. A mission that, if not completed successfully, could quite possibly lead to the end of the Guardians as we know them.</p>\n",
       "</div>"
      ]
     },
     "execution_count": 35,
     "metadata": {},
     "output_type": "execute_result"
    }
   ],
   "source": [
    "overview_tag1 = movie1_contents.find_all('div',class_ = 'overview')\n",
    "overview_tag1[0]"
   ]
  },
  {
   "cell_type": "code",
   "execution_count": 36,
   "id": "8bcca96a",
   "metadata": {},
   "outputs": [
    {
     "data": {
      "text/plain": [
       "'Peter Quill, still reeling from the loss of Gamora, must rally his team around him to defend the universe along with protecting one of their own. A mission that, if not completed successfully, could quite possibly lead to the end of the Guardians as we know them.'"
      ]
     },
     "execution_count": 36,
     "metadata": {},
     "output_type": "execute_result"
    }
   ],
   "source": [
    "overview_tag1[0].text.strip()"
   ]
  },
  {
   "cell_type": "code",
   "execution_count": 37,
   "id": "d0de7a94",
   "metadata": {},
   "outputs": [
    {
     "data": {
      "text/plain": [
       "'Peter Quill, still reeling from the loss of Gamora, must rally his team around him to defend the universe along with protecting one of their own. A mission that, if not completed successfully, could quite possibly lead to the end of the Guardians as we know them.'"
      ]
     },
     "execution_count": 37,
     "metadata": {},
     "output_type": "execute_result"
    }
   ],
   "source": [
    "overview1 = overview_tag1[0].text.strip()\n",
    "overview1"
   ]
  },
  {
   "cell_type": "code",
   "execution_count": 38,
   "id": "6636eeab",
   "metadata": {},
   "outputs": [
    {
     "data": {
      "text/plain": [
       "[<li class=\"profile\">\n",
       " <p><a href=\"/person/15218-james-gunn\">James Gunn</a></p>\n",
       " <p class=\"character\">Director, Writer</p>\n",
       " </li>,\n",
       " <li class=\"profile\">\n",
       " <p><a href=\"/person/7624-stan-lee\">Stan Lee</a></p>\n",
       " <p class=\"character\">Characters</p>\n",
       " </li>,\n",
       " <li class=\"profile\">\n",
       " <p><a href=\"/person/1372782-steve-englehart\">Steve Englehart</a></p>\n",
       " <p class=\"character\">Characters</p>\n",
       " </li>,\n",
       " <li class=\"profile\">\n",
       " <p><a href=\"/person/1222509-keith-giffen\">Keith Giffen</a></p>\n",
       " <p class=\"character\">Characters</p>\n",
       " </li>,\n",
       " <li class=\"profile\">\n",
       " <p><a href=\"/person/1713975-jim-starlin\">Jim Starlin</a></p>\n",
       " <p class=\"character\">Characters</p>\n",
       " </li>,\n",
       " <li class=\"profile\">\n",
       " <p><a href=\"/person/18866-jack-kirby\">Jack Kirby</a></p>\n",
       " <p class=\"character\">Characters</p>\n",
       " </li>,\n",
       " <li class=\"profile\">\n",
       " <p><a href=\"/person/18876-larry-lieber\">Larry Lieber</a></p>\n",
       " <p class=\"character\">Characters</p>\n",
       " </li>,\n",
       " <li class=\"profile\">\n",
       " <p><a href=\"/person/1768857-bill-mantlo\">Bill Mantlo</a></p>\n",
       " <p class=\"character\">Characters</p>\n",
       " </li>,\n",
       " <li class=\"profile\">\n",
       " <p><a href=\"/person/3016888-steve-gan\">Steve Gan</a></p>\n",
       " <p class=\"character\">Characters</p>\n",
       " </li>,\n",
       " <li class=\"profile\">\n",
       " <p><a href=\"/person/18877-don-heck\">Don Heck</a></p>\n",
       " <p class=\"character\">Characters</p>\n",
       " </li>,\n",
       " <li class=\"profile\">\n",
       " <p><a href=\"/person/1145873-john-buscema\">John Buscema</a></p>\n",
       " <p class=\"character\">Characters</p>\n",
       " </li>,\n",
       " <li class=\"profile\">\n",
       " <p><a href=\"/person/1238004-sal-buscema\">Sal Buscema</a></p>\n",
       " <p class=\"character\">Characters</p>\n",
       " </li>,\n",
       " <li class=\"profile\">\n",
       " <p><a href=\"/person/1804321-roger-stern\">Roger Stern</a></p>\n",
       " <p class=\"character\">Characters</p>\n",
       " </li>]"
      ]
     },
     "execution_count": 38,
     "metadata": {},
     "output_type": "execute_result"
    }
   ],
   "source": [
    "directors_tag1 = movie1_contents.find_all('li',class_='profile')\n",
    "directors_tag1"
   ]
  },
  {
   "cell_type": "code",
   "execution_count": 54,
   "id": "264a2a73",
   "metadata": {},
   "outputs": [],
   "source": [
    "for i in directors_tag1:\n",
    "    temp_p_tag = i.find('p',class_ = 'character')\n",
    "    temp_a_tag = i.find('a')\n",
    "    \n",
    "    if ('Director' in temp_p_tag.text):\n",
    "        director1 = temp_a_tag.text\n",
    "        break"
   ]
  },
  {
   "cell_type": "code",
   "execution_count": 56,
   "id": "8df9b658",
   "metadata": {},
   "outputs": [
    {
     "data": {
      "text/plain": [
       "bs4.element.Tag"
      ]
     },
     "execution_count": 56,
     "metadata": {},
     "output_type": "execute_result"
    }
   ],
   "source": [
    "type(temp_p_tag)"
   ]
  },
  {
   "cell_type": "code",
   "execution_count": 57,
   "id": "eaf7c086",
   "metadata": {},
   "outputs": [
    {
     "data": {
      "text/plain": [
       "'Director, Writer'"
      ]
     },
     "execution_count": 57,
     "metadata": {},
     "output_type": "execute_result"
    }
   ],
   "source": [
    "temp_p_tag.text"
   ]
  },
  {
   "cell_type": "code",
   "execution_count": 58,
   "id": "0b8a38e6",
   "metadata": {},
   "outputs": [
    {
     "data": {
      "text/plain": [
       "'James Gunn'"
      ]
     },
     "execution_count": 58,
     "metadata": {},
     "output_type": "execute_result"
    }
   ],
   "source": [
    "director1"
   ]
  },
  {
   "cell_type": "code",
   "execution_count": null,
   "id": "74d64303",
   "metadata": {},
   "outputs": [],
   "source": []
  },
  {
   "cell_type": "code",
   "execution_count": 59,
   "id": "acf4d3e4",
   "metadata": {},
   "outputs": [
    {
     "data": {
      "text/plain": [
       "'Peter Quill, still reeling from the loss of Gamora, must rally his team around him to defend the universe along with protecting one of their own. A mission that, if not completed successfully, could quite possibly lead to the end of the Guardians as we know them.'"
      ]
     },
     "execution_count": 59,
     "metadata": {},
     "output_type": "execute_result"
    }
   ],
   "source": [
    "overview1"
   ]
  },
  {
   "cell_type": "code",
   "execution_count": 60,
   "id": "f33101d7",
   "metadata": {},
   "outputs": [
    {
     "data": {
      "text/plain": [
       "'Guardians of the Galaxy Vol. 3'"
      ]
     },
     "execution_count": 60,
     "metadata": {},
     "output_type": "execute_result"
    }
   ],
   "source": [
    "movies_name[0]"
   ]
  },
  {
   "cell_type": "code",
   "execution_count": 61,
   "id": "5850e30a",
   "metadata": {},
   "outputs": [
    {
     "data": {
      "text/plain": [
       "'Science Fiction , Adventure , Action'"
      ]
     },
     "execution_count": 61,
     "metadata": {},
     "output_type": "execute_result"
    }
   ],
   "source": [
    "genres1"
   ]
  },
  {
   "cell_type": "code",
   "execution_count": 62,
   "id": "d3179ec8",
   "metadata": {},
   "outputs": [
    {
     "data": {
      "text/plain": [
       "'81.0'"
      ]
     },
     "execution_count": 62,
     "metadata": {},
     "output_type": "execute_result"
    }
   ],
   "source": [
    "user_score1"
   ]
  },
  {
   "cell_type": "code",
   "execution_count": 63,
   "id": "35bc4e15",
   "metadata": {},
   "outputs": [
    {
     "data": {
      "text/plain": [
       "'2h 30m'"
      ]
     },
     "execution_count": 63,
     "metadata": {},
     "output_type": "execute_result"
    }
   ],
   "source": [
    "time1"
   ]
  },
  {
   "cell_type": "code",
   "execution_count": 64,
   "id": "33bd23b4",
   "metadata": {},
   "outputs": [
    {
     "data": {
      "text/plain": [
       "'05/05/2023'"
      ]
     },
     "execution_count": 64,
     "metadata": {},
     "output_type": "execute_result"
    }
   ],
   "source": [
    "release1"
   ]
  },
  {
   "cell_type": "code",
   "execution_count": 70,
   "id": "6b698e80",
   "metadata": {},
   "outputs": [
    {
     "data": {
      "text/html": [
       "<div>\n",
       "<style scoped>\n",
       "    .dataframe tbody tr th:only-of-type {\n",
       "        vertical-align: middle;\n",
       "    }\n",
       "\n",
       "    .dataframe tbody tr th {\n",
       "        vertical-align: top;\n",
       "    }\n",
       "\n",
       "    .dataframe thead th {\n",
       "        text-align: right;\n",
       "    }\n",
       "</style>\n",
       "<table border=\"1\" class=\"dataframe\">\n",
       "  <thead>\n",
       "    <tr style=\"text-align: right;\">\n",
       "      <th></th>\n",
       "      <th>Movie_Name</th>\n",
       "      <th>User_Score(%)</th>\n",
       "      <th>Time</th>\n",
       "      <th>Release of Date</th>\n",
       "      <th>Director</th>\n",
       "      <th>Genres</th>\n",
       "      <th>Overview</th>\n",
       "    </tr>\n",
       "  </thead>\n",
       "  <tbody>\n",
       "    <tr>\n",
       "      <th>0</th>\n",
       "      <td>Guardians of the Galaxy Vol. 3</td>\n",
       "      <td>81.0</td>\n",
       "      <td>2h 30m</td>\n",
       "      <td>05/05/2023</td>\n",
       "      <td>James Gunn</td>\n",
       "      <td>Science Fiction , Adventure , Action</td>\n",
       "      <td>Peter Quill, still reeling from the loss of Ga...</td>\n",
       "    </tr>\n",
       "  </tbody>\n",
       "</table>\n",
       "</div>"
      ],
      "text/plain": [
       "                       Movie_Name User_Score(%)    Time Release of Date  \\\n",
       "0  Guardians of the Galaxy Vol. 3          81.0  2h 30m      05/05/2023   \n",
       "\n",
       "     Director                                Genres  \\\n",
       "0  James Gunn  Science Fiction , Adventure , Action   \n",
       "\n",
       "                                            Overview  \n",
       "0  Peter Quill, still reeling from the loss of Ga...  "
      ]
     },
     "execution_count": 70,
     "metadata": {},
     "output_type": "execute_result"
    }
   ],
   "source": [
    "# creating a dictionary for creating a DataFrame\n",
    "dic = {\n",
    "    'Movie_Name':movies_name[0],\n",
    "    'User_Score(%)': user_score1,\n",
    "    'Time':time1,\n",
    "    'Release of Date':release1,\n",
    "    'Director':director1,\n",
    "    'Genres':genres1,\n",
    "    'Overview':overview1\n",
    "}\n",
    "\n",
    "first_movie_df = pd.DataFrame(dic,index=list(range(0,1)))\n",
    "first_movie_df"
   ]
  },
  {
   "cell_type": "code",
   "execution_count": null,
   "id": "b7355d54",
   "metadata": {},
   "outputs": [],
   "source": []
  },
  {
   "cell_type": "markdown",
   "id": "7ce370eb",
   "metadata": {},
   "source": [
    "Now we have experimented on How to extract information , now we will write the final code in Classes.\n",
    "\n",
    "### Final Code"
   ]
  },
  {
   "cell_type": "code",
   "execution_count": 133,
   "id": "bea5de6a",
   "metadata": {},
   "outputs": [],
   "source": [
    "import requests \n",
    "from bs4 import BeautifulSoup\n",
    "import pandas as pd\n",
    "import random\n",
    "\n",
    "# This Class takes care of the home page\n",
    "class ExtractHomePage():\n",
    "    \n",
    "    def __init__(self,url):\n",
    "        self.base_url = url\n",
    "        \n",
    "        HEADERS = {\n",
    "            'User-Agent': 'Mozilla/5.0 (iPad; CPU OS 12_2 like Mac OS X) AppleWebKit/605.1.15 (KHTML, like Gecko) Mobile/15E148'\n",
    "        }\n",
    "        \n",
    "        response = requests.get(self.base_url, headers=HEADERS)\n",
    "        \n",
    "        # checking if the status code is 200\n",
    "        self.check_status_code(response)\n",
    "    \n",
    "        \n",
    "        self.contents = BeautifulSoup(response.text,'html.parser')\n",
    "        \n",
    "        \n",
    "    def check_status_code(self,res):\n",
    "        if res.status_code != 200:\n",
    "            raise Exception(f'Unable to open {self.base_url}')\n",
    "            \n",
    "        else:\n",
    "            print('Got NO ERROR while SCRAPING\\n')\n",
    "            \n",
    "    def return_movies_name(self):\n",
    "        class_selection = 'image'\n",
    "\n",
    "        all_movies_contents = contents.find_all('a',class_=class_selection)\n",
    "        \n",
    "        \n",
    "        movies_name = []\n",
    "        for i in range(len(all_movies_contents)):\n",
    "            movies_name.append(all_movies_contents[i]['title'])\n",
    "            \n",
    "        return movies_name\n",
    "    \n",
    "    def return_movies_link(self):\n",
    "        class_selection = 'image'\n",
    "\n",
    "        all_movies_contents = contents.find_all('a',class_=class_selection)\n",
    "        \n",
    "        \n",
    "        movies_link = []\n",
    "        for i in range(len(all_movies_contents)):\n",
    "            url = 'https://www.themoviedb.org'\n",
    "            temp_url = (url + all_movies_contents[i]['href'])\n",
    "            movies_link.append(temp_url)\n",
    "            \n",
    "        return movies_link\n",
    "    \n",
    "        \n",
    "\n",
    "        \n",
    "        "
   ]
  },
  {
   "cell_type": "code",
   "execution_count": 82,
   "id": "058a31cc",
   "metadata": {},
   "outputs": [
    {
     "name": "stdout",
     "output_type": "stream",
     "text": [
      "Got NO ERROR while SCRAPING\n"
     ]
    }
   ],
   "source": [
    "home_page = ExtractHomePage('https://www.themoviedb.org/movie?page=1')"
   ]
  },
  {
   "cell_type": "code",
   "execution_count": 98,
   "id": "5fa9cb10",
   "metadata": {},
   "outputs": [
    {
     "data": {
      "text/plain": [
       "['https://www.themoviedb.org/movie/447365',\n",
       " 'https://www.themoviedb.org/movie/667538',\n",
       " 'https://www.themoviedb.org/movie/385687',\n",
       " 'https://www.themoviedb.org/movie/455476',\n",
       " 'https://www.themoviedb.org/movie/445651',\n",
       " 'https://www.themoviedb.org/movie/678512',\n",
       " 'https://www.themoviedb.org/movie/254128',\n",
       " 'https://www.themoviedb.org/movie/569094',\n",
       " 'https://www.themoviedb.org/movie/603692',\n",
       " 'https://www.themoviedb.org/movie/406563',\n",
       " 'https://www.themoviedb.org/movie/1070802',\n",
       " 'https://www.themoviedb.org/movie/1130818',\n",
       " 'https://www.themoviedb.org/movie/502356',\n",
       " 'https://www.themoviedb.org/movie/346698',\n",
       " 'https://www.themoviedb.org/movie/976573',\n",
       " 'https://www.themoviedb.org/movie/575264',\n",
       " 'https://www.themoviedb.org/movie/47964',\n",
       " 'https://www.themoviedb.org/movie/423108',\n",
       " 'https://www.themoviedb.org/movie/614479',\n",
       " 'https://www.themoviedb.org/movie/1103825']"
      ]
     },
     "execution_count": 98,
     "metadata": {},
     "output_type": "execute_result"
    }
   ],
   "source": [
    "home_page.return_movies_link()"
   ]
  },
  {
   "cell_type": "code",
   "execution_count": 95,
   "id": "50afbad4",
   "metadata": {},
   "outputs": [
    {
     "data": {
      "text/plain": [
       "['Guardians of the Galaxy Vol. 3',\n",
       " 'Transformers: Rise of the Beasts',\n",
       " 'Fast X',\n",
       " 'Knights of the Zodiac',\n",
       " 'The Darkest Minds',\n",
       " 'Sound of Freedom',\n",
       " 'San Andreas',\n",
       " 'Spider-Man: Across the Spider-Verse',\n",
       " 'John Wick: Chapter 4',\n",
       " 'Insidious: The Last Key',\n",
       " 'Confidential Informant',\n",
       " 'Sheroes',\n",
       " 'The Super Mario Bros. Movie',\n",
       " 'Barbie',\n",
       " 'Elemental',\n",
       " 'Mission: Impossible - Dead Reckoning Part One',\n",
       " 'A Good Day to Die Hard',\n",
       " 'The Conjuring: The Devil Made Me Do It',\n",
       " 'Insidious: The Red Door',\n",
       " 'War of the Worlds: The Attack']"
      ]
     },
     "execution_count": 95,
     "metadata": {},
     "output_type": "execute_result"
    }
   ],
   "source": [
    "home_page.return_movies_name()"
   ]
  },
  {
   "cell_type": "code",
   "execution_count": null,
   "id": "89b09c49",
   "metadata": {},
   "outputs": [],
   "source": []
  },
  {
   "cell_type": "code",
   "execution_count": 134,
   "id": "fda4fec3",
   "metadata": {},
   "outputs": [],
   "source": [
    "# Using this Class we will be going to scrape the inforamtion\n",
    "# from each movie's url\n",
    "\n",
    "\n",
    "class EachMovieInformation():\n",
    "    \n",
    "    def __init__(self,url,name):\n",
    "        self.base_url = url\n",
    "        \n",
    "        HEADERS = {\n",
    "            'User-Agent': 'Mozilla/5.0 (iPad; CPU OS 12_2 like Mac OS X) AppleWebKit/605.1.15 (KHTML, like Gecko) Mobile/15E148'\n",
    "        }\n",
    "        \n",
    "        response = requests.get(self.base_url, headers=HEADERS)\n",
    "        \n",
    "        # checking if the status code is 200\n",
    "        self.check_status_code(response)\n",
    "    \n",
    "        \n",
    "        self.movie_contents = BeautifulSoup(response.text,'html.parser')\n",
    "        \n",
    "        print('Scrapping Information for {} \\n'.format(name))\n",
    "        \n",
    "    def check_status_code(self,res):\n",
    "        if res.status_code != 200:\n",
    "            raise Exception(f'Unable to open {self.base_url}')\n",
    "            \n",
    "    \n",
    "    def get_user_score(self):\n",
    "        class_selection1 = 'user_score_chart'\n",
    "        user_score_tag = self.movie_contents.find_all('div',{'class':class_selection1})\n",
    "        \n",
    "        user_score = user_score_tag[0]['data-percent']\n",
    "        return user_score\n",
    "                                                  \n",
    "    \n",
    "    def get_time(self):                         \n",
    "        time_tag = self.movie_contents.find_all('span',class_='runtime')\n",
    "        \n",
    "        time = time_tag[0].text.strip()                                         \n",
    "        return time\n",
    "    \n",
    "    \n",
    "    def get_release_date(self):\n",
    "        release_tag = self.movie_contents.find_all('span',class_='release')\n",
    "        \n",
    "        release = release_tag[0].text.strip()\n",
    "                                               \n",
    "        release = release[:10]\n",
    "        return release\n",
    "    \n",
    "    \n",
    "    def get_genres(self):\n",
    "        genres_tag = self.movie_contents.find_all('span',class_='genres')\n",
    "        \n",
    "        genres = genres_tag[0].text.strip()\n",
    "                                                  \n",
    "        genres  = ' , '.join(genres.split(',\\xa0'))\n",
    "        \n",
    "        return genres\n",
    "    \n",
    "    \n",
    "    \n",
    "    def get_overview(self):\n",
    "        overview_tag = self.movie_contents.find_all('div',class_ = 'overview')\n",
    "        \n",
    "        overview = overview_tag[0].text.strip()\n",
    "        return overview\n",
    "        \n",
    "        \n",
    "    def get_directors(self):\n",
    "        directors_tag = self.movie_contents.find_all('li',class_='profile')\n",
    "        \n",
    "        director = []\n",
    "        for i in directors_tag:\n",
    "            temp_p_tag = i.find('p',class_ = 'character')\n",
    "            temp_a_tag = i.find('a')\n",
    "\n",
    "            if ('Director' in temp_p_tag.text):\n",
    "                director.append(temp_a_tag.text)\n",
    "                \n",
    "        director = ','.join(director)\n",
    "            \n",
    "        \n",
    "        return director\n",
    "    \n",
    "    \n",
    "    \n",
    "    \n",
    "    \n",
    "    \n",
    "    \n",
    "    "
   ]
  },
  {
   "cell_type": "code",
   "execution_count": 112,
   "id": "38dca0e9",
   "metadata": {},
   "outputs": [
    {
     "name": "stdout",
     "output_type": "stream",
     "text": [
      "Got NO ERROR while SCRAPING\n",
      "Scrapping Information for Guardians of the Galaxy Vol. 3\n"
     ]
    }
   ],
   "source": [
    "movie_info = EachMovieInformation(home_page.return_movies_link()[0],home_page.return_movies_name()[0])"
   ]
  },
  {
   "cell_type": "code",
   "execution_count": 113,
   "id": "b725a57b",
   "metadata": {},
   "outputs": [
    {
     "data": {
      "text/plain": [
       "'James Gunn'"
      ]
     },
     "execution_count": 113,
     "metadata": {},
     "output_type": "execute_result"
    }
   ],
   "source": [
    "movie_info.get_directors()"
   ]
  },
  {
   "cell_type": "code",
   "execution_count": 114,
   "id": "43135a6c",
   "metadata": {},
   "outputs": [
    {
     "data": {
      "text/plain": [
       "'Science Fiction , Adventure , Action'"
      ]
     },
     "execution_count": 114,
     "metadata": {},
     "output_type": "execute_result"
    }
   ],
   "source": [
    "movie_info.get_genres()"
   ]
  },
  {
   "cell_type": "code",
   "execution_count": 115,
   "id": "f55c902c",
   "metadata": {},
   "outputs": [
    {
     "data": {
      "text/plain": [
       "'Peter Quill, still reeling from the loss of Gamora, must rally his team around him to defend the universe along with protecting one of their own. A mission that, if not completed successfully, could quite possibly lead to the end of the Guardians as we know them.'"
      ]
     },
     "execution_count": 115,
     "metadata": {},
     "output_type": "execute_result"
    }
   ],
   "source": [
    "movie_info.get_overview()"
   ]
  },
  {
   "cell_type": "code",
   "execution_count": 116,
   "id": "98a27959",
   "metadata": {},
   "outputs": [
    {
     "data": {
      "text/plain": [
       "'05/05/2023'"
      ]
     },
     "execution_count": 116,
     "metadata": {},
     "output_type": "execute_result"
    }
   ],
   "source": [
    "movie_info.get_release_date()"
   ]
  },
  {
   "cell_type": "code",
   "execution_count": 117,
   "id": "a61667bd",
   "metadata": {},
   "outputs": [
    {
     "data": {
      "text/plain": [
       "'2h 30m'"
      ]
     },
     "execution_count": 117,
     "metadata": {},
     "output_type": "execute_result"
    }
   ],
   "source": [
    "movie_info.get_time()"
   ]
  },
  {
   "cell_type": "code",
   "execution_count": 118,
   "id": "552b0c47",
   "metadata": {},
   "outputs": [
    {
     "data": {
      "text/plain": [
       "'81.0'"
      ]
     },
     "execution_count": 118,
     "metadata": {},
     "output_type": "execute_result"
    }
   ],
   "source": [
    "movie_info.get_user_score()"
   ]
  },
  {
   "cell_type": "code",
   "execution_count": null,
   "id": "64579da2",
   "metadata": {},
   "outputs": [],
   "source": []
  },
  {
   "cell_type": "code",
   "execution_count": 120,
   "id": "ceeddbdb",
   "metadata": {},
   "outputs": [],
   "source": [
    "movies_link = home_page.return_movies_link()\n",
    "movies_name = home_page.return_movies_name()"
   ]
  },
  {
   "cell_type": "code",
   "execution_count": 136,
   "id": "4931a130",
   "metadata": {},
   "outputs": [],
   "source": [
    "def create_df_and_save_it(movies_name , movies_link , movies_directors,\n",
    "                          movies_time , movies_score , movies_overview ,\n",
    "                          movies_release , movies_genre , Name_of_df):\n",
    "    \n",
    "    dic = {\n",
    "        'Movie_Name':movies_name,\n",
    "        'User_Score(%)':movies_score,\n",
    "        'Time':movies_time,\n",
    "        'Date of Release':movies_release,\n",
    "        'Genres':movies_genre,\n",
    "        'Director':movies_directors,\n",
    "        'Link':movies_link,\n",
    "        'Overview':movies_overview\n",
    "    }\n",
    "    \n",
    "    \n",
    "    df = pd.DataFrame(dic,index=list(range(len(movies_genre))))\n",
    "    \n",
    "    df.to_csv(Name_of_df,index=False)\n",
    "    \n",
    "    \n",
    "    print('DONE SUCCESSFULLY')\n",
    "                          "
   ]
  },
  {
   "cell_type": "code",
   "execution_count": 135,
   "id": "23caff0d",
   "metadata": {},
   "outputs": [
    {
     "name": "stdout",
     "output_type": "stream",
     "text": [
      "Got NO ERROR while SCRAPING\n",
      "\n",
      "Scrapping Information for Guardians of the Galaxy Vol. 3 \n",
      "\n",
      "Scrapping Information for Transformers: Rise of the Beasts \n",
      "\n",
      "Scrapping Information for Fast X \n",
      "\n",
      "Scrapping Information for Knights of the Zodiac \n",
      "\n",
      "Scrapping Information for The Darkest Minds \n",
      "\n",
      "Scrapping Information for Sound of Freedom \n",
      "\n",
      "Scrapping Information for San Andreas \n",
      "\n",
      "Scrapping Information for Spider-Man: Across the Spider-Verse \n",
      "\n",
      "Scrapping Information for John Wick: Chapter 4 \n",
      "\n",
      "Scrapping Information for Insidious: The Last Key \n",
      "\n",
      "Scrapping Information for Confidential Informant \n",
      "\n",
      "Scrapping Information for Sheroes \n",
      "\n",
      "Scrapping Information for The Super Mario Bros. Movie \n",
      "\n",
      "Scrapping Information for Barbie \n",
      "\n",
      "Scrapping Information for Elemental \n",
      "\n",
      "Scrapping Information for Mission: Impossible - Dead Reckoning Part One \n",
      "\n",
      "Scrapping Information for A Good Day to Die Hard \n",
      "\n",
      "Scrapping Information for The Conjuring: The Devil Made Me Do It \n",
      "\n",
      "Scrapping Information for Insidious: The Red Door \n",
      "\n",
      "Scrapping Information for War of the Worlds: The Attack \n",
      "\n"
     ]
    }
   ],
   "source": [
    "movies_directors  = [] \n",
    "movies_time = []\n",
    "movies_score = [] \n",
    "movies_overview = [] \n",
    "movies_release  = []\n",
    "movies_genre = []\n",
    "\n",
    "\n",
    "url = 'https://www.themoviedb.org/movie?page=1'\n",
    "home_page = ExtractHomePage(url)\n",
    "\n",
    "movies_link = home_page.return_movies_link()\n",
    "movies_name = home_page.return_movies_name() \n",
    "\n",
    "\n",
    "for i in range(len(movies_link)):\n",
    "    movie_info = EachMovieInformation(movies_link[i],movies_name[i])\n",
    "    \n",
    "    movies_directors.append(movie_info.get_directors())\n",
    "    \n",
    "    movies_genre.append(movie_info.get_genres())\n",
    "    \n",
    "    movies_time.append(movie_info.get_time())\n",
    "    \n",
    "    movies_score.append(movie_info.get_time())\n",
    "    \n",
    "    movies_release.append(movie_info.get_release_date())\n",
    "    \n",
    "    movies_overview.append(movie_info.get_overview())\n",
    "    \n",
    "    \n",
    "    \n",
    "    \n",
    "create_df_and_save_it(movies_name=movies_name,Name_of_df='Movies',movies_directors=movies_directors,movies_overview=movies_overview,\n",
    "                     movies_genre=movies_genre,movies_release=movies_release,\n",
    "                     movies_time=movies_time,movies_link=movies_link,movies_score=movies_score)"
   ]
  },
  {
   "cell_type": "code",
   "execution_count": null,
   "id": "3a81d15c",
   "metadata": {},
   "outputs": [],
   "source": []
  }
 ],
 "metadata": {
  "kernelspec": {
   "display_name": "Python 3 (ipykernel)",
   "language": "python",
   "name": "python3"
  },
  "language_info": {
   "codemirror_mode": {
    "name": "ipython",
    "version": 3
   },
   "file_extension": ".py",
   "mimetype": "text/x-python",
   "name": "python",
   "nbconvert_exporter": "python",
   "pygments_lexer": "ipython3",
   "version": "3.9.13"
  }
 },
 "nbformat": 4,
 "nbformat_minor": 5
}
